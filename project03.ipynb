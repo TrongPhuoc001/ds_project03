{
 "cells": [
  {
   "cell_type": "code",
   "execution_count": 4,
   "metadata": {},
   "outputs": [],
   "source": [
    "import matplotlib.pyplot as plt\n",
    "import seaborn as sns # seaborn là thư viện được xây trên matplotlib, \n",
    "                      # giúp việc visualization đỡ khổ hơn\n",
    "import pandas as pd\n",
    "import numpy as np\n",
    "\n",
    "from sklearn.model_selection import train_test_split\n",
    "from sklearn.preprocessing import OneHotEncoder,StandardScaler\n",
    "from sklearn.feature_extraction.text import TfidfVectorizer\n",
    "from sklearn.pipeline import Pipeline, make_pipeline\n",
    "from sklearn.compose import ColumnTransformer, make_column_transformer\n",
    "from sklearn.base import BaseEstimator, TransformerMixin\n",
    "from sklearn.neural_network import MLPClassifier\n",
    "from sklearn.linear_model import LogisticRegression\n",
    "from sklearn import set_config\n",
    "set_config(display='diagram') \n",
    "from vncorenlp import VnCoreNLP\n",
    "annotator = VnCoreNLP('VnCoreNLP-1.1.1.jar', annotators=\"wseg\", max_heap_size='-Xmx500m')"
   ]
  },
  {
   "cell_type": "code",
   "execution_count": 5,
   "metadata": {},
   "outputs": [
    {
     "data": {
      "text/html": [
       "<div>\n",
       "<style scoped>\n",
       "    .dataframe tbody tr th:only-of-type {\n",
       "        vertical-align: middle;\n",
       "    }\n",
       "\n",
       "    .dataframe tbody tr th {\n",
       "        vertical-align: top;\n",
       "    }\n",
       "\n",
       "    .dataframe thead th {\n",
       "        text-align: right;\n",
       "    }\n",
       "</style>\n",
       "<table border=\"1\" class=\"dataframe\">\n",
       "  <thead>\n",
       "    <tr style=\"text-align: right;\">\n",
       "      <th></th>\n",
       "      <th>text</th>\n",
       "      <th>domain</th>\n",
       "      <th>label</th>\n",
       "    </tr>\n",
       "  </thead>\n",
       "  <tbody>\n",
       "    <tr>\n",
       "      <th>0</th>\n",
       "      <td>Thủ tướng Abe cúi đầu xin lỗi vì hành động phi...</td>\n",
       "      <td>binhluan.biz</td>\n",
       "      <td>1</td>\n",
       "    </tr>\n",
       "    <tr>\n",
       "      <th>1</th>\n",
       "      <td>Thủ tướng Nhật cúi đầu xin lỗi vì tinh thần ph...</td>\n",
       "      <td>www.ipick.vn</td>\n",
       "      <td>1</td>\n",
       "    </tr>\n",
       "    <tr>\n",
       "      <th>2</th>\n",
       "      <td>Choáng! Cơ trưởng đeo khăn quàng quẩy banh nóc...</td>\n",
       "      <td>tintucqpvn.net</td>\n",
       "      <td>1</td>\n",
       "    </tr>\n",
       "    <tr>\n",
       "      <th>3</th>\n",
       "      <td>Chưa bao giờ nhạc Kpop lại dễ hát đến thế!!!\\r...</td>\n",
       "      <td>tintucqpvn.net</td>\n",
       "      <td>1</td>\n",
       "    </tr>\n",
       "    <tr>\n",
       "      <th>4</th>\n",
       "      <td>Đại học Hutech sẽ áp dụng cải cách \"Tiếq Việt\"...</td>\n",
       "      <td>www.gioitreviet.net</td>\n",
       "      <td>1</td>\n",
       "    </tr>\n",
       "  </tbody>\n",
       "</table>\n",
       "</div>"
      ],
      "text/plain": [
       "                                                text               domain  \\\n",
       "0  Thủ tướng Abe cúi đầu xin lỗi vì hành động phi...         binhluan.biz   \n",
       "1  Thủ tướng Nhật cúi đầu xin lỗi vì tinh thần ph...         www.ipick.vn   \n",
       "2  Choáng! Cơ trưởng đeo khăn quàng quẩy banh nóc...       tintucqpvn.net   \n",
       "3  Chưa bao giờ nhạc Kpop lại dễ hát đến thế!!!\\r...       tintucqpvn.net   \n",
       "4  Đại học Hutech sẽ áp dụng cải cách \"Tiếq Việt\"...  www.gioitreviet.net   \n",
       "\n",
       "   label  \n",
       "0      1  \n",
       "1      1  \n",
       "2      1  \n",
       "3      1  \n",
       "4      1  "
      ]
     },
     "execution_count": 5,
     "metadata": {},
     "output_type": "execute_result"
    }
   ],
   "source": [
    "data_df = pd.read_csv('vn_news_226_tdlfr.csv') # Cho cột index là cột PassengerId\n",
    "data_df.head()"
   ]
  },
  {
   "cell_type": "markdown",
   "metadata": {},
   "source": [
    "### EDA (khám phá dữ liệu)"
   ]
  },
  {
   "cell_type": "code",
   "execution_count": 6,
   "metadata": {},
   "outputs": [
    {
     "name": "stdout",
     "output_type": "stream",
     "text": [
      "<class 'pandas.core.frame.DataFrame'>\n",
      "RangeIndex: 223 entries, 0 to 222\n",
      "Data columns (total 3 columns):\n",
      " #   Column  Non-Null Count  Dtype \n",
      "---  ------  --------------  ----- \n",
      " 0   text    223 non-null    object\n",
      " 1   domain  223 non-null    object\n",
      " 2   label   223 non-null    int64 \n",
      "dtypes: int64(1), object(2)\n",
      "memory usage: 5.4+ KB\n"
     ]
    }
   ],
   "source": [
    "data_df.info()"
   ]
  },
  {
   "cell_type": "code",
   "execution_count": 7,
   "metadata": {},
   "outputs": [
    {
     "data": {
      "text/plain": [
       "(223, 3)"
      ]
     },
     "execution_count": 7,
     "metadata": {},
     "output_type": "execute_result"
    }
   ],
   "source": [
    "data_df.shape"
   ]
  },
  {
   "cell_type": "code",
   "execution_count": 8,
   "metadata": {},
   "outputs": [
    {
     "data": {
      "text/plain": [
       "0"
      ]
     },
     "execution_count": 8,
     "metadata": {},
     "output_type": "execute_result"
    }
   ],
   "source": [
    "data_df.index.duplicated().sum()"
   ]
  },
  {
   "cell_type": "code",
   "execution_count": 9,
   "metadata": {},
   "outputs": [
    {
     "data": {
      "text/plain": [
       "text      0\n",
       "domain    0\n",
       "label     0\n",
       "dtype: int64"
      ]
     },
     "execution_count": 9,
     "metadata": {},
     "output_type": "execute_result"
    }
   ],
   "source": [
    "data_df.isna().sum()"
   ]
  },
  {
   "cell_type": "code",
   "execution_count": 10,
   "metadata": {},
   "outputs": [
    {
     "data": {
      "text/plain": [
       "0"
      ]
     },
     "execution_count": 10,
     "metadata": {},
     "output_type": "execute_result"
    }
   ],
   "source": [
    "#check output thiếu\n",
    "data_df['label'].isna().sum()"
   ]
  },
  {
   "cell_type": "code",
   "execution_count": 11,
   "metadata": {},
   "outputs": [
    {
     "data": {
      "text/plain": [
       "0    55.156951\n",
       "1    44.843049\n",
       "Name: label, dtype: float64"
      ]
     },
     "execution_count": 11,
     "metadata": {},
     "output_type": "execute_result"
    },
    {
     "data": {
      "image/png": "[encoded data removed]",
      "text/plain": [
       "<Figure size 432x288 with 1 Axes>"
      ]
     },
     "metadata": {
      "needs_background": "light"
     },
     "output_type": "display_data"
    }
   ],
   "source": [
    "# Tỉ lệ các lớp trong cột output?\n",
    "data_df.label.value_counts(normalize=True).plot(kind=\"bar\", color=[\"red\", \"blue\"])\n",
    "data_df['label'].value_counts(normalize=True) * 100"
   ]
  },
  {
   "cell_type": "code",
   "execution_count": 12,
   "metadata": {},
   "outputs": [
    {
     "data": {
      "text/plain": [
       "2554.57399103139"
      ]
     },
     "execution_count": 12,
     "metadata": {},
     "output_type": "execute_result"
    }
   ],
   "source": [
    "np.average(data_df['text'].apply(lambda x: len(x)))"
   ]
  },
  {
   "cell_type": "markdown",
   "metadata": {},
   "source": [
    "## Mô hình hóa"
   ]
  },
  {
   "cell_type": "markdown",
   "metadata": {},
   "source": [
    "### Tiền xử lý"
   ]
  },
  {
   "cell_type": "code",
   "execution_count": 13,
   "metadata": {},
   "outputs": [],
   "source": [
    "y_sr = data_df[\"label\"] # sr là viết tắt của series\n",
    "X_df = data_df.drop(\"label\", axis=1)"
   ]
  },
  {
   "cell_type": "code",
   "execution_count": 14,
   "metadata": {},
   "outputs": [],
   "source": [
    "train_X_df, val_X_df, train_y_sr, val_y_sr = \\\n",
    "                              train_test_split(X_df, y_sr, \n",
    "                                               test_size=0.2, \n",
    "                                               stratify=y_sr,\n",
    "                                               random_state=7)"
   ]
  },
  {
   "cell_type": "code",
   "execution_count": 15,
   "metadata": {},
   "outputs": [
    {
     "data": {
      "text/plain": [
       "((178, 2), (178,))"
      ]
     },
     "execution_count": 15,
     "metadata": {},
     "output_type": "execute_result"
    }
   ],
   "source": [
    "train_X_df.shape,train_y_sr.shape"
   ]
  },
  {
   "cell_type": "code",
   "execution_count": 16,
   "metadata": {},
   "outputs": [
    {
     "data": {
      "text/plain": [
       "((45, 2), (45,))"
      ]
     },
     "execution_count": 16,
     "metadata": {},
     "output_type": "execute_result"
    }
   ],
   "source": [
    "val_X_df.shape,val_y_sr.shape"
   ]
  },
  {
   "cell_type": "code",
   "execution_count": 17,
   "metadata": {},
   "outputs": [],
   "source": [
    "with open('vietnamese_stopwords.txt',encoding='utf8') as f:\n",
    "    stopwords = f.read().splitlines() \n",
    "pat = r'\\b(?:{})\\b'.format('|'.join(stopwords))"
   ]
  },
  {
   "cell_type": "code",
   "execution_count": 18,
   "metadata": {},
   "outputs": [],
   "source": [
    "class WordPreprocessing(BaseEstimator, TransformerMixin):\n",
    "    def fit(self, X_df, y=None):\n",
    "        return self\n",
    "    \n",
    "    def transform(self, X_df, y=None):\n",
    "        \n",
    "        out_df = X_df.copy()\n",
    "        out_df['text'] = out_df['text'].str.lower()\n",
    "        out_df['text'] = out_df['text'].str.replace(pat, '',regex=True)\n",
    "        out_df['text'] = out_df['text'].str.replace('\\W', ' ',regex=True)\n",
    "        out_df['text'] = out_df['text'].str.replace('[^\\w\\s]',' ',regex=True)\n",
    "        out_df['text'] = out_df['text'].apply(annotator.tokenize)\n",
    "        out_df['text'] = out_df['text'].apply(lambda x: x[0])\n",
    "        out_df['domain'] = out_df['domain'].str.replace('\\W','',regex=True)  \n",
    "        \n",
    "        out_df = out_df.sort_index(axis=1)\n",
    "        return out_df"
   ]
  },
  {
   "cell_type": "code",
   "execution_count": 19,
   "metadata": {},
   "outputs": [],
   "source": [
    "def dummy_fun(a):\n",
    "    return a\n",
    "col_pipeline = ColumnTransformer(\n",
    "    transformers=[\n",
    "        ('tfidf',TfidfVectorizer(analyzer='word',\n",
    "    tokenizer=dummy_fun,\n",
    "    preprocessor=dummy_fun, \n",
    "    token_pattern=None), 'text'),\n",
    "    ('ohe',OneHotEncoder(handle_unknown='ignore'),['domain'])\n",
    "    ]\n",
    ")"
   ]
  },
  {
   "cell_type": "code",
   "execution_count": 20,
   "metadata": {},
   "outputs": [],
   "source": [
    "mlp_pipeline = make_pipeline(WordPreprocessing(),col_pipeline,StandardScaler(with_mean=False),MLPClassifier(hidden_layer_sizes=(70),\n",
    "                                 activation='tanh',\n",
    "                                 solver='lbfgs', max_iter=1000, \n",
    "                                 random_state=0))\n"
   ]
  },
  {
   "cell_type": "code",
   "execution_count": 21,
   "metadata": {},
   "outputs": [
    {
     "data": {
      "text/html": [
       "<style>#sk-02f162d4-9003-4f84-84b5-33bd391524cc {color: black;background-color: white;}#sk-02f162d4-9003-4f84-84b5-33bd391524cc pre{padding: 0;}#sk-02f162d4-9003-4f84-84b5-33bd391524cc div.sk-toggleable {background-color: white;}#sk-02f162d4-9003-4f84-84b5-33bd391524cc label.sk-toggleable__label {cursor: pointer;display: block;width: 100%;margin-bottom: 0;padding: 0.2em 0.3em;box-sizing: border-box;text-align: center;}#sk-02f162d4-9003-4f84-84b5-33bd391524cc div.sk-toggleable__content {max-height: 0;max-width: 0;overflow: hidden;text-align: left;background-color: #f0f8ff;}#sk-02f162d4-9003-4f84-84b5-33bd391524cc div.sk-toggleable__content pre {margin: 0.2em;color: black;border-radius: 0.25em;background-color: #f0f8ff;}#sk-02f162d4-9003-4f84-84b5-33bd391524cc input.sk-toggleable__control:checked~div.sk-toggleable__content {max-height: 200px;max-width: 100%;overflow: auto;}#sk-02f162d4-9003-4f84-84b5-33bd391524cc div.sk-estimator input.sk-toggleable__control:checked~label.sk-toggleable__label {background-color: #d4ebff;}#sk-02f162d4-9003-4f84-84b5-33bd391524cc div.sk-label input.sk-toggleable__control:checked~label.sk-toggleable__label {background-color: #d4ebff;}#sk-02f162d4-9003-4f84-84b5-33bd391524cc input.sk-hidden--visually {border: 0;clip: rect(1px 1px 1px 1px);clip: rect(1px, 1px, 1px, 1px);height: 1px;margin: -1px;overflow: hidden;padding: 0;position: absolute;width: 1px;}#sk-02f162d4-9003-4f84-84b5-33bd391524cc div.sk-estimator {font-family: monospace;background-color: #f0f8ff;margin: 0.25em 0.25em;border: 1px dotted black;border-radius: 0.25em;box-sizing: border-box;}#sk-02f162d4-9003-4f84-84b5-33bd391524cc div.sk-estimator:hover {background-color: #d4ebff;}#sk-02f162d4-9003-4f84-84b5-33bd391524cc div.sk-parallel-item::after {content: \"\";width: 100%;border-bottom: 1px solid gray;flex-grow: 1;}#sk-02f162d4-9003-4f84-84b5-33bd391524cc div.sk-label:hover label.sk-toggleable__label {background-color: #d4ebff;}#sk-02f162d4-9003-4f84-84b5-33bd391524cc div.sk-serial::before {content: \"\";position: absolute;border-left: 1px solid gray;box-sizing: border-box;top: 2em;bottom: 0;left: 50%;}#sk-02f162d4-9003-4f84-84b5-33bd391524cc div.sk-serial {display: flex;flex-direction: column;align-items: center;background-color: white;}#sk-02f162d4-9003-4f84-84b5-33bd391524cc div.sk-item {z-index: 1;}#sk-02f162d4-9003-4f84-84b5-33bd391524cc div.sk-parallel {display: flex;align-items: stretch;justify-content: center;background-color: white;}#sk-02f162d4-9003-4f84-84b5-33bd391524cc div.sk-parallel-item {display: flex;flex-direction: column;position: relative;background-color: white;}#sk-02f162d4-9003-4f84-84b5-33bd391524cc div.sk-parallel-item:first-child::after {align-self: flex-end;width: 50%;}#sk-02f162d4-9003-4f84-84b5-33bd391524cc div.sk-parallel-item:last-child::after {align-self: flex-start;width: 50%;}#sk-02f162d4-9003-4f84-84b5-33bd391524cc div.sk-parallel-item:only-child::after {width: 0;}#sk-02f162d4-9003-4f84-84b5-33bd391524cc div.sk-dashed-wrapped {border: 1px dashed gray;margin: 0.2em;box-sizing: border-box;padding-bottom: 0.1em;background-color: white;position: relative;}#sk-02f162d4-9003-4f84-84b5-33bd391524cc div.sk-label label {font-family: monospace;font-weight: bold;background-color: white;display: inline-block;line-height: 1.2em;}#sk-02f162d4-9003-4f84-84b5-33bd391524cc div.sk-label-container {position: relative;z-index: 2;text-align: center;}#sk-02f162d4-9003-4f84-84b5-33bd391524cc div.sk-container {display: inline-block;position: relative;}</style><div id=\"sk-02f162d4-9003-4f84-84b5-33bd391524cc\" class\"sk-top-container\"><div class=\"sk-container\"><div class=\"sk-item sk-dashed-wrapped\"><div class=\"sk-label-container\"><div class=\"sk-label sk-toggleable\"><input class=\"sk-toggleable__control sk-hidden--visually\" id=\"60ad8137-b374-4ad5-a693-6832a008a106\" type=\"checkbox\" ><label class=\"sk-toggleable__label\" for=\"60ad8137-b374-4ad5-a693-6832a008a106\">Pipeline</label><div class=\"sk-toggleable__content\"><pre>Pipeline(steps=[('wordpreprocessing', WordPreprocessing()),\n",
       "                ('columntransformer',\n",
       "                 ColumnTransformer(transformers=[('tfidf',\n",
       "                                                  TfidfVectorizer(preprocessor=<function dummy_fun at 0x0000020FBB75F040>,\n",
       "                                                                  token_pattern=None,\n",
       "                                                                  tokenizer=<function dummy_fun at 0x0000020FBB75F040>),\n",
       "                                                  'text'),\n",
       "                                                 ('ohe',\n",
       "                                                  OneHotEncoder(handle_unknown='ignore'),\n",
       "                                                  ['domain'])])),\n",
       "                ('standardscaler', StandardScaler(with_mean=False)),\n",
       "                ('mlpclassifier',\n",
       "                 MLPClassifier(activation='tanh', hidden_layer_sizes=70,\n",
       "                               max_iter=1000, random_state=0,\n",
       "                               solver='lbfgs'))])</pre></div></div></div><div class=\"sk-serial\"><div class=\"sk-item\"><div class=\"sk-estimator sk-toggleable\"><input class=\"sk-toggleable__control sk-hidden--visually\" id=\"55b4c7e0-d281-4283-b2e7-fbb25d4fe8a5\" type=\"checkbox\" ><label class=\"sk-toggleable__label\" for=\"55b4c7e0-d281-4283-b2e7-fbb25d4fe8a5\">WordPreprocessing</label><div class=\"sk-toggleable__content\"><pre>WordPreprocessing()</pre></div></div></div><div class=\"sk-item sk-dashed-wrapped\"><div class=\"sk-label-container\"><div class=\"sk-label sk-toggleable\"><input class=\"sk-toggleable__control sk-hidden--visually\" id=\"4d0c1a5f-577e-41f1-93bc-bfcbcde91f3d\" type=\"checkbox\" ><label class=\"sk-toggleable__label\" for=\"4d0c1a5f-577e-41f1-93bc-bfcbcde91f3d\">columntransformer: ColumnTransformer</label><div class=\"sk-toggleable__content\"><pre>ColumnTransformer(transformers=[('tfidf',\n",
       "                                 TfidfVectorizer(preprocessor=<function dummy_fun at 0x0000020FBB75F040>,\n",
       "                                                 token_pattern=None,\n",
       "                                                 tokenizer=<function dummy_fun at 0x0000020FBB75F040>),\n",
       "                                 'text'),\n",
       "                                ('ohe', OneHotEncoder(handle_unknown='ignore'),\n",
       "                                 ['domain'])])</pre></div></div></div><div class=\"sk-parallel\"><div class=\"sk-parallel-item\"><div class=\"sk-item\"><div class=\"sk-label-container\"><div class=\"sk-label sk-toggleable\"><input class=\"sk-toggleable__control sk-hidden--visually\" id=\"a52c3c0a-3b1b-45fe-91a3-9a7cfe9fd29c\" type=\"checkbox\" ><label class=\"sk-toggleable__label\" for=\"a52c3c0a-3b1b-45fe-91a3-9a7cfe9fd29c\">tfidf</label><div class=\"sk-toggleable__content\"><pre>text</pre></div></div></div><div class=\"sk-serial\"><div class=\"sk-item\"><div class=\"sk-estimator sk-toggleable\"><input class=\"sk-toggleable__control sk-hidden--visually\" id=\"843906a2-0b3b-4d86-b604-410f583da26e\" type=\"checkbox\" ><label class=\"sk-toggleable__label\" for=\"843906a2-0b3b-4d86-b604-410f583da26e\">TfidfVectorizer</label><div class=\"sk-toggleable__content\"><pre>TfidfVectorizer(preprocessor=<function dummy_fun at 0x0000020FBB75F040>,\n",
       "                token_pattern=None,\n",
       "                tokenizer=<function dummy_fun at 0x0000020FBB75F040>)</pre></div></div></div></div></div></div><div class=\"sk-parallel-item\"><div class=\"sk-item\"><div class=\"sk-label-container\"><div class=\"sk-label sk-toggleable\"><input class=\"sk-toggleable__control sk-hidden--visually\" id=\"e78b97e1-3a71-4386-a35f-6cf29de0f866\" type=\"checkbox\" ><label class=\"sk-toggleable__label\" for=\"e78b97e1-3a71-4386-a35f-6cf29de0f866\">ohe</label><div class=\"sk-toggleable__content\"><pre>['domain']</pre></div></div></div><div class=\"sk-serial\"><div class=\"sk-item\"><div class=\"sk-estimator sk-toggleable\"><input class=\"sk-toggleable__control sk-hidden--visually\" id=\"509a0427-bc7f-44aa-b764-7baebebcd753\" type=\"checkbox\" ><label class=\"sk-toggleable__label\" for=\"509a0427-bc7f-44aa-b764-7baebebcd753\">OneHotEncoder</label><div class=\"sk-toggleable__content\"><pre>OneHotEncoder(handle_unknown='ignore')</pre></div></div></div></div></div></div></div></div><div class=\"sk-item\"><div class=\"sk-estimator sk-toggleable\"><input class=\"sk-toggleable__control sk-hidden--visually\" id=\"fc92317f-4b6d-4828-bebe-6b836099e1c3\" type=\"checkbox\" ><label class=\"sk-toggleable__label\" for=\"fc92317f-4b6d-4828-bebe-6b836099e1c3\">StandardScaler</label><div class=\"sk-toggleable__content\"><pre>StandardScaler(with_mean=False)</pre></div></div></div><div class=\"sk-item\"><div class=\"sk-estimator sk-toggleable\"><input class=\"sk-toggleable__control sk-hidden--visually\" id=\"b41b6db4-cd18-4491-a456-781902d3f71c\" type=\"checkbox\" ><label class=\"sk-toggleable__label\" for=\"b41b6db4-cd18-4491-a456-781902d3f71c\">MLPClassifier</label><div class=\"sk-toggleable__content\"><pre>MLPClassifier(activation='tanh', hidden_layer_sizes=70, max_iter=1000,\n",
       "              random_state=0, solver='lbfgs')</pre></div></div></div></div></div></div></div>"
      ],
      "text/plain": [
       "Pipeline(steps=[('wordpreprocessing', WordPreprocessing()),\n",
       "                ('columntransformer',\n",
       "                 ColumnTransformer(transformers=[('tfidf',\n",
       "                                                  TfidfVectorizer(preprocessor=<function dummy_fun at 0x0000020FBB75F040>,\n",
       "                                                                  token_pattern=None,\n",
       "                                                                  tokenizer=<function dummy_fun at 0x0000020FBB75F040>),\n",
       "                                                  'text'),\n",
       "                                                 ('ohe',\n",
       "                                                  OneHotEncoder(handle_unknown='ignore'),\n",
       "                                                  ['domain'])])),\n",
       "                ('standardscaler', StandardScaler(with_mean=False)),\n",
       "                ('mlpclassifier',\n",
       "                 MLPClassifier(activation='tanh', hidden_layer_sizes=70,\n",
       "                               max_iter=1000, random_state=0,\n",
       "                               solver='lbfgs'))])"
      ]
     },
     "execution_count": 21,
     "metadata": {},
     "output_type": "execute_result"
    }
   ],
   "source": [
    "mlp_pipeline"
   ]
  },
  {
   "cell_type": "code",
   "execution_count": 22,
   "metadata": {},
   "outputs": [
    {
     "name": "stdout",
     "output_type": "stream",
     "text": [
      "0.5 93.33333333333333\n"
     ]
    }
   ],
   "source": [
    "\n",
    "val_accs = []\n",
    "alphas = [0,0.5,1, 1.5, 2, 2.5]\n",
    "best_val_acc = 0\n",
    "best_alpha = None\n",
    "for alpha in alphas:\n",
    "    mlp_pipeline.set_params(mlpclassifier__alpha = alpha)\n",
    "    mlp_pipeline.fit(train_X_df,train_y_sr)\n",
    "    val_acc = mlp_pipeline.score(val_X_df,val_y_sr)*100\n",
    "    val_accs.append(val_acc)\n",
    "    if val_acc>best_val_acc :\n",
    "        best_val_acc = val_acc\n",
    "        best_alpha = alpha\n",
    "print(best_alpha,best_val_acc);"
   ]
  },
  {
   "cell_type": "code",
   "execution_count": 23,
   "metadata": {},
   "outputs": [
    {
     "data": {
      "text/html": [
       "<style>#sk-fbc9962d-6a6d-42da-baf9-0338aefda21a {color: black;background-color: white;}#sk-fbc9962d-6a6d-42da-baf9-0338aefda21a pre{padding: 0;}#sk-fbc9962d-6a6d-42da-baf9-0338aefda21a div.sk-toggleable {background-color: white;}#sk-fbc9962d-6a6d-42da-baf9-0338aefda21a label.sk-toggleable__label {cursor: pointer;display: block;width: 100%;margin-bottom: 0;padding: 0.2em 0.3em;box-sizing: border-box;text-align: center;}#sk-fbc9962d-6a6d-42da-baf9-0338aefda21a div.sk-toggleable__content {max-height: 0;max-width: 0;overflow: hidden;text-align: left;background-color: #f0f8ff;}#sk-fbc9962d-6a6d-42da-baf9-0338aefda21a div.sk-toggleable__content pre {margin: 0.2em;color: black;border-radius: 0.25em;background-color: #f0f8ff;}#sk-fbc9962d-6a6d-42da-baf9-0338aefda21a input.sk-toggleable__control:checked~div.sk-toggleable__content {max-height: 200px;max-width: 100%;overflow: auto;}#sk-fbc9962d-6a6d-42da-baf9-0338aefda21a div.sk-estimator input.sk-toggleable__control:checked~label.sk-toggleable__label {background-color: #d4ebff;}#sk-fbc9962d-6a6d-42da-baf9-0338aefda21a div.sk-label input.sk-toggleable__control:checked~label.sk-toggleable__label {background-color: #d4ebff;}#sk-fbc9962d-6a6d-42da-baf9-0338aefda21a input.sk-hidden--visually {border: 0;clip: rect(1px 1px 1px 1px);clip: rect(1px, 1px, 1px, 1px);height: 1px;margin: -1px;overflow: hidden;padding: 0;position: absolute;width: 1px;}#sk-fbc9962d-6a6d-42da-baf9-0338aefda21a div.sk-estimator {font-family: monospace;background-color: #f0f8ff;margin: 0.25em 0.25em;border: 1px dotted black;border-radius: 0.25em;box-sizing: border-box;}#sk-fbc9962d-6a6d-42da-baf9-0338aefda21a div.sk-estimator:hover {background-color: #d4ebff;}#sk-fbc9962d-6a6d-42da-baf9-0338aefda21a div.sk-parallel-item::after {content: \"\";width: 100%;border-bottom: 1px solid gray;flex-grow: 1;}#sk-fbc9962d-6a6d-42da-baf9-0338aefda21a div.sk-label:hover label.sk-toggleable__label {background-color: #d4ebff;}#sk-fbc9962d-6a6d-42da-baf9-0338aefda21a div.sk-serial::before {content: \"\";position: absolute;border-left: 1px solid gray;box-sizing: border-box;top: 2em;bottom: 0;left: 50%;}#sk-fbc9962d-6a6d-42da-baf9-0338aefda21a div.sk-serial {display: flex;flex-direction: column;align-items: center;background-color: white;}#sk-fbc9962d-6a6d-42da-baf9-0338aefda21a div.sk-item {z-index: 1;}#sk-fbc9962d-6a6d-42da-baf9-0338aefda21a div.sk-parallel {display: flex;align-items: stretch;justify-content: center;background-color: white;}#sk-fbc9962d-6a6d-42da-baf9-0338aefda21a div.sk-parallel-item {display: flex;flex-direction: column;position: relative;background-color: white;}#sk-fbc9962d-6a6d-42da-baf9-0338aefda21a div.sk-parallel-item:first-child::after {align-self: flex-end;width: 50%;}#sk-fbc9962d-6a6d-42da-baf9-0338aefda21a div.sk-parallel-item:last-child::after {align-self: flex-start;width: 50%;}#sk-fbc9962d-6a6d-42da-baf9-0338aefda21a div.sk-parallel-item:only-child::after {width: 0;}#sk-fbc9962d-6a6d-42da-baf9-0338aefda21a div.sk-dashed-wrapped {border: 1px dashed gray;margin: 0.2em;box-sizing: border-box;padding-bottom: 0.1em;background-color: white;position: relative;}#sk-fbc9962d-6a6d-42da-baf9-0338aefda21a div.sk-label label {font-family: monospace;font-weight: bold;background-color: white;display: inline-block;line-height: 1.2em;}#sk-fbc9962d-6a6d-42da-baf9-0338aefda21a div.sk-label-container {position: relative;z-index: 2;text-align: center;}#sk-fbc9962d-6a6d-42da-baf9-0338aefda21a div.sk-container {display: inline-block;position: relative;}</style><div id=\"sk-fbc9962d-6a6d-42da-baf9-0338aefda21a\" class\"sk-top-container\"><div class=\"sk-container\"><div class=\"sk-item sk-dashed-wrapped\"><div class=\"sk-label-container\"><div class=\"sk-label sk-toggleable\"><input class=\"sk-toggleable__control sk-hidden--visually\" id=\"bb4319ef-f8f9-4547-9a6d-f5a835373fa6\" type=\"checkbox\" ><label class=\"sk-toggleable__label\" for=\"bb4319ef-f8f9-4547-9a6d-f5a835373fa6\">Pipeline</label><div class=\"sk-toggleable__content\"><pre>Pipeline(steps=[('wordpreprocessing', WordPreprocessing()),\n",
       "                ('columntransformer',\n",
       "                 ColumnTransformer(transformers=[('tfidf',\n",
       "                                                  TfidfVectorizer(preprocessor=<function dummy_fun at 0x0000020FBB75F040>,\n",
       "                                                                  token_pattern=None,\n",
       "                                                                  tokenizer=<function dummy_fun at 0x0000020FBB75F040>),\n",
       "                                                  'text'),\n",
       "                                                 ('ohe',\n",
       "                                                  OneHotEncoder(handle_unknown='ignore'),\n",
       "                                                  ['domain'])])),\n",
       "                ('standardscaler', StandardScaler(with_mean=False)),\n",
       "                ('mlpclassifier',\n",
       "                 MLPClassifier(activation='tanh', alpha=0.5,\n",
       "                               hidden_layer_sizes=70, max_iter=1000,\n",
       "                               random_state=0, solver='lbfgs'))])</pre></div></div></div><div class=\"sk-serial\"><div class=\"sk-item\"><div class=\"sk-estimator sk-toggleable\"><input class=\"sk-toggleable__control sk-hidden--visually\" id=\"5448578c-47a4-4401-9a53-06d37e4ca698\" type=\"checkbox\" ><label class=\"sk-toggleable__label\" for=\"5448578c-47a4-4401-9a53-06d37e4ca698\">WordPreprocessing</label><div class=\"sk-toggleable__content\"><pre>WordPreprocessing()</pre></div></div></div><div class=\"sk-item sk-dashed-wrapped\"><div class=\"sk-label-container\"><div class=\"sk-label sk-toggleable\"><input class=\"sk-toggleable__control sk-hidden--visually\" id=\"8b25564f-502d-4e12-9a5d-88871725b22a\" type=\"checkbox\" ><label class=\"sk-toggleable__label\" for=\"8b25564f-502d-4e12-9a5d-88871725b22a\">columntransformer: ColumnTransformer</label><div class=\"sk-toggleable__content\"><pre>ColumnTransformer(transformers=[('tfidf',\n",
       "                                 TfidfVectorizer(preprocessor=<function dummy_fun at 0x0000020FBB75F040>,\n",
       "                                                 token_pattern=None,\n",
       "                                                 tokenizer=<function dummy_fun at 0x0000020FBB75F040>),\n",
       "                                 'text'),\n",
       "                                ('ohe', OneHotEncoder(handle_unknown='ignore'),\n",
       "                                 ['domain'])])</pre></div></div></div><div class=\"sk-parallel\"><div class=\"sk-parallel-item\"><div class=\"sk-item\"><div class=\"sk-label-container\"><div class=\"sk-label sk-toggleable\"><input class=\"sk-toggleable__control sk-hidden--visually\" id=\"87989c41-7945-412a-9a9f-040e7aeff663\" type=\"checkbox\" ><label class=\"sk-toggleable__label\" for=\"87989c41-7945-412a-9a9f-040e7aeff663\">tfidf</label><div class=\"sk-toggleable__content\"><pre>text</pre></div></div></div><div class=\"sk-serial\"><div class=\"sk-item\"><div class=\"sk-estimator sk-toggleable\"><input class=\"sk-toggleable__control sk-hidden--visually\" id=\"42830a87-2976-4f8e-b440-3f4c7ce51038\" type=\"checkbox\" ><label class=\"sk-toggleable__label\" for=\"42830a87-2976-4f8e-b440-3f4c7ce51038\">TfidfVectorizer</label><div class=\"sk-toggleable__content\"><pre>TfidfVectorizer(preprocessor=<function dummy_fun at 0x0000020FBB75F040>,\n",
       "                token_pattern=None,\n",
       "                tokenizer=<function dummy_fun at 0x0000020FBB75F040>)</pre></div></div></div></div></div></div><div class=\"sk-parallel-item\"><div class=\"sk-item\"><div class=\"sk-label-container\"><div class=\"sk-label sk-toggleable\"><input class=\"sk-toggleable__control sk-hidden--visually\" id=\"ac679dd9-e153-4b03-b7ae-c5a8febf5599\" type=\"checkbox\" ><label class=\"sk-toggleable__label\" for=\"ac679dd9-e153-4b03-b7ae-c5a8febf5599\">ohe</label><div class=\"sk-toggleable__content\"><pre>['domain']</pre></div></div></div><div class=\"sk-serial\"><div class=\"sk-item\"><div class=\"sk-estimator sk-toggleable\"><input class=\"sk-toggleable__control sk-hidden--visually\" id=\"82656622-17fd-4801-bd78-b006c3f38353\" type=\"checkbox\" ><label class=\"sk-toggleable__label\" for=\"82656622-17fd-4801-bd78-b006c3f38353\">OneHotEncoder</label><div class=\"sk-toggleable__content\"><pre>OneHotEncoder(handle_unknown='ignore')</pre></div></div></div></div></div></div></div></div><div class=\"sk-item\"><div class=\"sk-estimator sk-toggleable\"><input class=\"sk-toggleable__control sk-hidden--visually\" id=\"25f66ed6-8180-4c29-80c6-77e9fbc2387b\" type=\"checkbox\" ><label class=\"sk-toggleable__label\" for=\"25f66ed6-8180-4c29-80c6-77e9fbc2387b\">StandardScaler</label><div class=\"sk-toggleable__content\"><pre>StandardScaler(with_mean=False)</pre></div></div></div><div class=\"sk-item\"><div class=\"sk-estimator sk-toggleable\"><input class=\"sk-toggleable__control sk-hidden--visually\" id=\"50c5c9b6-6ccb-4d52-b20d-0b28bf3b5ce3\" type=\"checkbox\" ><label class=\"sk-toggleable__label\" for=\"50c5c9b6-6ccb-4d52-b20d-0b28bf3b5ce3\">MLPClassifier</label><div class=\"sk-toggleable__content\"><pre>MLPClassifier(activation='tanh', alpha=0.5, hidden_layer_sizes=70,\n",
       "              max_iter=1000, random_state=0, solver='lbfgs')</pre></div></div></div></div></div></div></div>"
      ],
      "text/plain": [
       "Pipeline(steps=[('wordpreprocessing', WordPreprocessing()),\n",
       "                ('columntransformer',\n",
       "                 ColumnTransformer(transformers=[('tfidf',\n",
       "                                                  TfidfVectorizer(preprocessor=<function dummy_fun at 0x0000020FBB75F040>,\n",
       "                                                                  token_pattern=None,\n",
       "                                                                  tokenizer=<function dummy_fun at 0x0000020FBB75F040>),\n",
       "                                                  'text'),\n",
       "                                                 ('ohe',\n",
       "                                                  OneHotEncoder(handle_unknown='ignore'),\n",
       "                                                  ['domain'])])),\n",
       "                ('standardscaler', StandardScaler(with_mean=False)),\n",
       "                ('mlpclassifier',\n",
       "                 MLPClassifier(activation='tanh', alpha=0.5,\n",
       "                               hidden_layer_sizes=70, max_iter=1000,\n",
       "                               random_state=0, solver='lbfgs'))])"
      ]
     },
     "execution_count": 23,
     "metadata": {},
     "output_type": "execute_result"
    }
   ],
   "source": [
    "mlp_pipeline.set_params(mlpclassifier__alpha = best_alpha)\n",
    "mlp_pipeline.fit(X_df,y_sr)"
   ]
  },
  {
   "cell_type": "markdown",
   "metadata": {},
   "source": [
    "#### LogisticRegression"
   ]
  },
  {
   "cell_type": "code",
   "execution_count": 24,
   "metadata": {},
   "outputs": [],
   "source": [
    "lr_pipeline = make_pipeline(WordPreprocessing(),col_pipeline,StandardScaler(with_mean=False),LogisticRegression(solver='liblinear'))"
   ]
  },
  {
   "cell_type": "code",
   "execution_count": 25,
   "metadata": {},
   "outputs": [
    {
     "name": "stdout",
     "output_type": "stream",
     "text": [
      "0.25 l2 93.33333333333333\n"
     ]
    }
   ],
   "source": [
    "val_accs = []\n",
    "cs = [0.25,0.5, 0.75, 1, 1.25,1.5]\n",
    "penalties = ['l1', 'l2']\n",
    "best_val_acc = 0\n",
    "best_c = None\n",
    "best_penalty = None\n",
    "for c in cs:\n",
    "    for penalty in penalties:\n",
    "        lr_pipeline.set_params(logisticregression__C = c,logisticregression__penalty = penalty)\n",
    "        lr_pipeline.fit(train_X_df,train_y_sr)\n",
    "        val_acc = lr_pipeline.score(val_X_df,val_y_sr)*100\n",
    "        val_accs.append(val_acc)\n",
    "        if val_acc>best_val_acc :\n",
    "            best_val_acc = val_acc\n",
    "            best_c = c\n",
    "            best_penalty = penalty\n",
    "print(best_c,best_penalty,best_val_acc);\n"
   ]
  },
  {
   "cell_type": "code",
   "execution_count": 26,
   "metadata": {},
   "outputs": [
    {
     "data": {
      "text/html": [
       "<style>#sk-9f62265e-5182-4a40-ac4c-76996e398e28 {color: black;background-color: white;}#sk-9f62265e-5182-4a40-ac4c-76996e398e28 pre{padding: 0;}#sk-9f62265e-5182-4a40-ac4c-76996e398e28 div.sk-toggleable {background-color: white;}#sk-9f62265e-5182-4a40-ac4c-76996e398e28 label.sk-toggleable__label {cursor: pointer;display: block;width: 100%;margin-bottom: 0;padding: 0.2em 0.3em;box-sizing: border-box;text-align: center;}#sk-9f62265e-5182-4a40-ac4c-76996e398e28 div.sk-toggleable__content {max-height: 0;max-width: 0;overflow: hidden;text-align: left;background-color: #f0f8ff;}#sk-9f62265e-5182-4a40-ac4c-76996e398e28 div.sk-toggleable__content pre {margin: 0.2em;color: black;border-radius: 0.25em;background-color: #f0f8ff;}#sk-9f62265e-5182-4a40-ac4c-76996e398e28 input.sk-toggleable__control:checked~div.sk-toggleable__content {max-height: 200px;max-width: 100%;overflow: auto;}#sk-9f62265e-5182-4a40-ac4c-76996e398e28 div.sk-estimator input.sk-toggleable__control:checked~label.sk-toggleable__label {background-color: #d4ebff;}#sk-9f62265e-5182-4a40-ac4c-76996e398e28 div.sk-label input.sk-toggleable__control:checked~label.sk-toggleable__label {background-color: #d4ebff;}#sk-9f62265e-5182-4a40-ac4c-76996e398e28 input.sk-hidden--visually {border: 0;clip: rect(1px 1px 1px 1px);clip: rect(1px, 1px, 1px, 1px);height: 1px;margin: -1px;overflow: hidden;padding: 0;position: absolute;width: 1px;}#sk-9f62265e-5182-4a40-ac4c-76996e398e28 div.sk-estimator {font-family: monospace;background-color: #f0f8ff;margin: 0.25em 0.25em;border: 1px dotted black;border-radius: 0.25em;box-sizing: border-box;}#sk-9f62265e-5182-4a40-ac4c-76996e398e28 div.sk-estimator:hover {background-color: #d4ebff;}#sk-9f62265e-5182-4a40-ac4c-76996e398e28 div.sk-parallel-item::after {content: \"\";width: 100%;border-bottom: 1px solid gray;flex-grow: 1;}#sk-9f62265e-5182-4a40-ac4c-76996e398e28 div.sk-label:hover label.sk-toggleable__label {background-color: #d4ebff;}#sk-9f62265e-5182-4a40-ac4c-76996e398e28 div.sk-serial::before {content: \"\";position: absolute;border-left: 1px solid gray;box-sizing: border-box;top: 2em;bottom: 0;left: 50%;}#sk-9f62265e-5182-4a40-ac4c-76996e398e28 div.sk-serial {display: flex;flex-direction: column;align-items: center;background-color: white;}#sk-9f62265e-5182-4a40-ac4c-76996e398e28 div.sk-item {z-index: 1;}#sk-9f62265e-5182-4a40-ac4c-76996e398e28 div.sk-parallel {display: flex;align-items: stretch;justify-content: center;background-color: white;}#sk-9f62265e-5182-4a40-ac4c-76996e398e28 div.sk-parallel-item {display: flex;flex-direction: column;position: relative;background-color: white;}#sk-9f62265e-5182-4a40-ac4c-76996e398e28 div.sk-parallel-item:first-child::after {align-self: flex-end;width: 50%;}#sk-9f62265e-5182-4a40-ac4c-76996e398e28 div.sk-parallel-item:last-child::after {align-self: flex-start;width: 50%;}#sk-9f62265e-5182-4a40-ac4c-76996e398e28 div.sk-parallel-item:only-child::after {width: 0;}#sk-9f62265e-5182-4a40-ac4c-76996e398e28 div.sk-dashed-wrapped {border: 1px dashed gray;margin: 0.2em;box-sizing: border-box;padding-bottom: 0.1em;background-color: white;position: relative;}#sk-9f62265e-5182-4a40-ac4c-76996e398e28 div.sk-label label {font-family: monospace;font-weight: bold;background-color: white;display: inline-block;line-height: 1.2em;}#sk-9f62265e-5182-4a40-ac4c-76996e398e28 div.sk-label-container {position: relative;z-index: 2;text-align: center;}#sk-9f62265e-5182-4a40-ac4c-76996e398e28 div.sk-container {display: inline-block;position: relative;}</style><div id=\"sk-9f62265e-5182-4a40-ac4c-76996e398e28\" class\"sk-top-container\"><div class=\"sk-container\"><div class=\"sk-item sk-dashed-wrapped\"><div class=\"sk-label-container\"><div class=\"sk-label sk-toggleable\"><input class=\"sk-toggleable__control sk-hidden--visually\" id=\"1bdcd8a6-7951-4b9d-807d-0133a67d3b8b\" type=\"checkbox\" ><label class=\"sk-toggleable__label\" for=\"1bdcd8a6-7951-4b9d-807d-0133a67d3b8b\">Pipeline</label><div class=\"sk-toggleable__content\"><pre>Pipeline(steps=[('wordpreprocessing', WordPreprocessing()),\n",
       "                ('columntransformer',\n",
       "                 ColumnTransformer(transformers=[('tfidf',\n",
       "                                                  TfidfVectorizer(preprocessor=<function dummy_fun at 0x0000020FBB75F040>,\n",
       "                                                                  token_pattern=None,\n",
       "                                                                  tokenizer=<function dummy_fun at 0x0000020FBB75F040>),\n",
       "                                                  'text'),\n",
       "                                                 ('ohe',\n",
       "                                                  OneHotEncoder(handle_unknown='ignore'),\n",
       "                                                  ['domain'])])),\n",
       "                ('standardscaler', StandardScaler(with_mean=False)),\n",
       "                ('logisticregression',\n",
       "                 LogisticRegression(C=0.25, solver='liblinear'))])</pre></div></div></div><div class=\"sk-serial\"><div class=\"sk-item\"><div class=\"sk-estimator sk-toggleable\"><input class=\"sk-toggleable__control sk-hidden--visually\" id=\"178813ab-f590-4b3d-99a8-c96fceac7f46\" type=\"checkbox\" ><label class=\"sk-toggleable__label\" for=\"178813ab-f590-4b3d-99a8-c96fceac7f46\">WordPreprocessing</label><div class=\"sk-toggleable__content\"><pre>WordPreprocessing()</pre></div></div></div><div class=\"sk-item sk-dashed-wrapped\"><div class=\"sk-label-container\"><div class=\"sk-label sk-toggleable\"><input class=\"sk-toggleable__control sk-hidden--visually\" id=\"0e4319e0-06c7-421c-b7a6-ff1813275e40\" type=\"checkbox\" ><label class=\"sk-toggleable__label\" for=\"0e4319e0-06c7-421c-b7a6-ff1813275e40\">columntransformer: ColumnTransformer</label><div class=\"sk-toggleable__content\"><pre>ColumnTransformer(transformers=[('tfidf',\n",
       "                                 TfidfVectorizer(preprocessor=<function dummy_fun at 0x0000020FBB75F040>,\n",
       "                                                 token_pattern=None,\n",
       "                                                 tokenizer=<function dummy_fun at 0x0000020FBB75F040>),\n",
       "                                 'text'),\n",
       "                                ('ohe', OneHotEncoder(handle_unknown='ignore'),\n",
       "                                 ['domain'])])</pre></div></div></div><div class=\"sk-parallel\"><div class=\"sk-parallel-item\"><div class=\"sk-item\"><div class=\"sk-label-container\"><div class=\"sk-label sk-toggleable\"><input class=\"sk-toggleable__control sk-hidden--visually\" id=\"f1ebe340-a707-431c-88d0-c0b36e055e7d\" type=\"checkbox\" ><label class=\"sk-toggleable__label\" for=\"f1ebe340-a707-431c-88d0-c0b36e055e7d\">tfidf</label><div class=\"sk-toggleable__content\"><pre>text</pre></div></div></div><div class=\"sk-serial\"><div class=\"sk-item\"><div class=\"sk-estimator sk-toggleable\"><input class=\"sk-toggleable__control sk-hidden--visually\" id=\"ef332092-f2d7-4b90-b026-495b355563d8\" type=\"checkbox\" ><label class=\"sk-toggleable__label\" for=\"ef332092-f2d7-4b90-b026-495b355563d8\">TfidfVectorizer</label><div class=\"sk-toggleable__content\"><pre>TfidfVectorizer(preprocessor=<function dummy_fun at 0x0000020FBB75F040>,\n",
       "                token_pattern=None,\n",
       "                tokenizer=<function dummy_fun at 0x0000020FBB75F040>)</pre></div></div></div></div></div></div><div class=\"sk-parallel-item\"><div class=\"sk-item\"><div class=\"sk-label-container\"><div class=\"sk-label sk-toggleable\"><input class=\"sk-toggleable__control sk-hidden--visually\" id=\"22f6c609-010c-4c0d-94c7-d5ce21c3d618\" type=\"checkbox\" ><label class=\"sk-toggleable__label\" for=\"22f6c609-010c-4c0d-94c7-d5ce21c3d618\">ohe</label><div class=\"sk-toggleable__content\"><pre>['domain']</pre></div></div></div><div class=\"sk-serial\"><div class=\"sk-item\"><div class=\"sk-estimator sk-toggleable\"><input class=\"sk-toggleable__control sk-hidden--visually\" id=\"8db56c01-93ba-4e43-a747-9b27a66569d4\" type=\"checkbox\" ><label class=\"sk-toggleable__label\" for=\"8db56c01-93ba-4e43-a747-9b27a66569d4\">OneHotEncoder</label><div class=\"sk-toggleable__content\"><pre>OneHotEncoder(handle_unknown='ignore')</pre></div></div></div></div></div></div></div></div><div class=\"sk-item\"><div class=\"sk-estimator sk-toggleable\"><input class=\"sk-toggleable__control sk-hidden--visually\" id=\"89426a28-4dd6-47e2-986b-d5128a25acc7\" type=\"checkbox\" ><label class=\"sk-toggleable__label\" for=\"89426a28-4dd6-47e2-986b-d5128a25acc7\">StandardScaler</label><div class=\"sk-toggleable__content\"><pre>StandardScaler(with_mean=False)</pre></div></div></div><div class=\"sk-item\"><div class=\"sk-estimator sk-toggleable\"><input class=\"sk-toggleable__control sk-hidden--visually\" id=\"f8aba08b-d557-454c-be23-ab79aa1ed729\" type=\"checkbox\" ><label class=\"sk-toggleable__label\" for=\"f8aba08b-d557-454c-be23-ab79aa1ed729\">LogisticRegression</label><div class=\"sk-toggleable__content\"><pre>LogisticRegression(C=0.25, solver='liblinear')</pre></div></div></div></div></div></div></div>"
      ],
      "text/plain": [
       "Pipeline(steps=[('wordpreprocessing', WordPreprocessing()),\n",
       "                ('columntransformer',\n",
       "                 ColumnTransformer(transformers=[('tfidf',\n",
       "                                                  TfidfVectorizer(preprocessor=<function dummy_fun at 0x0000020FBB75F040>,\n",
       "                                                                  token_pattern=None,\n",
       "                                                                  tokenizer=<function dummy_fun at 0x0000020FBB75F040>),\n",
       "                                                  'text'),\n",
       "                                                 ('ohe',\n",
       "                                                  OneHotEncoder(handle_unknown='ignore'),\n",
       "                                                  ['domain'])])),\n",
       "                ('standardscaler', StandardScaler(with_mean=False)),\n",
       "                ('logisticregression',\n",
       "                 LogisticRegression(C=0.25, solver='liblinear'))])"
      ]
     },
     "execution_count": 26,
     "metadata": {},
     "output_type": "execute_result"
    }
   ],
   "source": [
    "lr_pipeline.set_params(logisticregression__C = best_c,logisticregression__penalty = best_penalty)\n",
    "lr_pipeline.fit(X_df,y_sr)"
   ]
  },
  {
   "cell_type": "code",
   "execution_count": 27,
   "metadata": {},
   "outputs": [
    {
     "data": {
      "text/plain": [
       "['lr_model.sav']"
      ]
     },
     "execution_count": 27,
     "metadata": {},
     "output_type": "execute_result"
    }
   ],
   "source": [
    "import joblib\n",
    "joblib.dump(mlp_pipeline,'mlp_model.sav')\n",
    "joblib.dump(lr_pipeline,'lr_model.sav')"
   ]
  },
  {
   "cell_type": "code",
   "execution_count": 42,
   "metadata": {},
   "outputs": [
    {
     "data": {
      "text/plain": [
       "'0.24.2'"
      ]
     },
     "execution_count": 42,
     "metadata": {},
     "output_type": "execute_result"
    }
   ],
   "source": [
    "import sklearn\n",
    "sklearn.__version__"
   ]
  }
 ],
 "metadata": {
  "interpreter": {
   "hash": "6730372e3a45511a4bb08157495c62e452706eedb39833ddf9c6b28ffb22cbd5"
  },
  "kernelspec": {
   "display_name": "Python 3.8.8 64-bit ('min_ds-env': conda)",
   "language": "python",
   "name": "python3"
  },
  "language_info": {
   "codemirror_mode": {
    "name": "ipython",
    "version": 3
   },
   "file_extension": ".py",
   "mimetype": "text/x-python",
   "name": "python",
   "nbconvert_exporter": "python",
   "pygments_lexer": "ipython3",
   "version": "3.8.8"
  },
  "orig_nbformat": 4
 },
 "nbformat": 4,
 "nbformat_minor": 2
}
